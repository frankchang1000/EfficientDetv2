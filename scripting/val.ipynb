{
 "cells": [
  {
   "cell_type": "code",
   "execution_count": 4,
   "metadata": {},
   "outputs": [],
   "source": [
    "# copy the xml files in the val.txt to a new folder\n",
    "\n",
    "import os\n",
    "import shutil\n",
    "\n",
    "valPath = \"D:\\coding\\EfficientDet\\data\\datasets\\egg\"\n",
    "newPath = \"D:\\coding\\EfficientDet\\data\\datasets\\egg/valLabels\"\n",
    "with open(\"D:\\coding\\EfficientDet\\data\\datasets\\egg/val.txt\", \"r\") as f:\n",
    "    for line in f:\n",
    "        line = line.strip()\n",
    "        shutil.copy(os.path.join(valPath, \"Labels\", line + \".xml\"), newPath)\n",
    "\n",
    "\n",
    "\n",
    "\n"
   ]
  },
  {
   "cell_type": "code",
   "execution_count": 6,
   "metadata": {},
   "outputs": [],
   "source": [
    "import os\n",
    "import shutil\n",
    "\n",
    "valFile = \"D:\\coding\\EfficientDet\\data\\datasets\\egg/val.txt\"\n",
    "imagesPath = \"D:\\coding\\EfficientDet\\data\\datasets\\egg/Images\"\n",
    "valPath = \"D:\\coding\\EfficientDet\\data\\datasets\\egg/Test/\"\n",
    "with open(valFile, \"r\") as f:\n",
    "    for line in f:\n",
    "        line = line.strip()\n",
    "\n",
    "        shutil.copy(os.path.join(imagesPath, line + \".jpeg\"), valPath)\n"
   ]
  }
 ],
 "metadata": {
  "kernelspec": {
   "display_name": "venv",
   "language": "python",
   "name": "python3"
  },
  "language_info": {
   "codemirror_mode": {
    "name": "ipython",
    "version": 3
   },
   "file_extension": ".py",
   "mimetype": "text/x-python",
   "name": "python",
   "nbconvert_exporter": "python",
   "pygments_lexer": "ipython3",
   "version": "3.9.4 (tags/v3.9.4:1f2e308, Apr  6 2021, 13:40:21) [MSC v.1928 64 bit (AMD64)]"
  },
  "orig_nbformat": 4,
  "vscode": {
   "interpreter": {
    "hash": "cd14a4c5490182765092f2262cd5acc6f4af6d4faf8df555fd53d8a1aaf1c05b"
   }
  }
 },
 "nbformat": 4,
 "nbformat_minor": 2
}
